{
  "nbformat": 4,
  "nbformat_minor": 0,
  "metadata": {
    "colab": {
      "provenance": []
    },
    "kernelspec": {
      "name": "python3",
      "display_name": "Python 3"
    },
    "language_info": {
      "name": "python"
    }
  },
  "cells": [
    {
      "cell_type": "markdown",
      "source": [
        "## ** Iterating :**"
      ],
      "metadata": {
        "id": "kiAQSn502uS3"
      }
    },
    {
      "cell_type": "code",
      "source": [
        "import numpy as np"
      ],
      "metadata": {
        "id": "v1e-OvCsXpPI"
      },
      "execution_count": null,
      "outputs": []
    },
    {
      "cell_type": "code",
      "source": [
        "x = np.array([1,2,3,4,5,6,7,8,9])\n",
        "for y in x:\n",
        " print(y)"
      ],
      "metadata": {
        "colab": {
          "base_uri": "https://localhost:8080/"
        },
        "id": "xuCNZzKP5JMk",
        "outputId": "d8289cf7-ad77-4895-8639-0752405bdc37"
      },
      "execution_count": 31,
      "outputs": [
        {
          "output_type": "stream",
          "name": "stdout",
          "text": [
            "1\n",
            "2\n",
            "3\n",
            "4\n",
            "5\n",
            "6\n",
            "7\n",
            "8\n",
            "9\n"
          ]
        }
      ]
    },
    {
      "cell_type": "code",
      "source": [
        "x = np.array([[1,2,3,4,5,6],[7,8,9,10,11,12]])\n",
        "for y in x:\n",
        " print(y)"
      ],
      "metadata": {
        "colab": {
          "base_uri": "https://localhost:8080/"
        },
        "id": "KuuowE865-Av",
        "outputId": "93942233-b162-4436-ad38-54ab572a9f7c"
      },
      "execution_count": 32,
      "outputs": [
        {
          "output_type": "stream",
          "name": "stdout",
          "text": [
            "[1 2 3 4 5 6]\n",
            "[ 7  8  9 10 11 12]\n"
          ]
        }
      ]
    },
    {
      "cell_type": "code",
      "source": [
        "A = np.array([[1,2,3,4,5,6],[7,8,9,10,11,12]])\n",
        "for x in A:\n",
        "  for y in x:\n",
        "   print(y)"
      ],
      "metadata": {
        "colab": {
          "base_uri": "https://localhost:8080/"
        },
        "id": "sAzi9reSGYm5",
        "outputId": "54b768bf-cce7-4bc5-997e-f951b457ffe8"
      },
      "execution_count": 34,
      "outputs": [
        {
          "output_type": "stream",
          "name": "stdout",
          "text": [
            "1\n",
            "2\n",
            "3\n",
            "4\n",
            "5\n",
            "6\n",
            "7\n",
            "8\n",
            "9\n",
            "10\n",
            "11\n",
            "12\n"
          ]
        }
      ]
    },
    {
      "cell_type": "code",
      "source": [
        "F = np.array([[[1,2,3],[4,5,6],[7,8,9]]])\n",
        "for x in F:\n",
        "  print(x)\n"
      ],
      "metadata": {
        "colab": {
          "base_uri": "https://localhost:8080/"
        },
        "id": "U4sOKimJGz6f",
        "outputId": "1f4768db-b01c-4caa-b3fc-a3b0130cff90"
      },
      "execution_count": 35,
      "outputs": [
        {
          "output_type": "stream",
          "name": "stdout",
          "text": [
            "[[1 2 3]\n",
            " [4 5 6]\n",
            " [7 8 9]]\n"
          ]
        }
      ]
    },
    {
      "cell_type": "code",
      "source": [
        "F = np.array([[[1,2,3],[4,5,6],[7,8,9]]])\n",
        "for x in F:\n",
        "  for y in x:\n",
        "    for z in y:\n",
        "      print(z)"
      ],
      "metadata": {
        "colab": {
          "base_uri": "https://localhost:8080/"
        },
        "id": "DLE95gFeHFG7",
        "outputId": "640d2f32-fdca-4921-b57e-4eeae6bc550c"
      },
      "execution_count": 37,
      "outputs": [
        {
          "output_type": "stream",
          "name": "stdout",
          "text": [
            "1\n",
            "2\n",
            "3\n",
            "4\n",
            "5\n",
            "6\n",
            "7\n",
            "8\n",
            "9\n"
          ]
        }
      ]
    },
    {
      "cell_type": "code",
      "source": [
        "# nditer():\n",
        "F = np.array([[[1,2,3],[4,5,6],[7,8,9]]])\n",
        "for x in np.nditer(F):\n",
        " print(x)"
      ],
      "metadata": {
        "colab": {
          "base_uri": "https://localhost:8080/"
        },
        "id": "kSvdQ_U_Hnf4",
        "outputId": "3b94f508-778a-4935-980b-a97aa16e1b5b"
      },
      "execution_count": 40,
      "outputs": [
        {
          "output_type": "stream",
          "name": "stdout",
          "text": [
            "1\n",
            "2\n",
            "3\n",
            "4\n",
            "5\n",
            "6\n",
            "7\n",
            "8\n",
            "9\n"
          ]
        }
      ]
    },
    {
      "cell_type": "code",
      "source": [
        "D = np.array([1,2,3,4,5,6,7,8,9,10,11,12])\n",
        "for x in np.nditer(D,flags=['buffered'],op_dtypes=['S']):\n",
        " print(x)"
      ],
      "metadata": {
        "colab": {
          "base_uri": "https://localhost:8080/"
        },
        "id": "sXO34N5j6V78",
        "outputId": "4f5ac093-8575-49a7-9950-0a79f560b4bd"
      },
      "execution_count": 41,
      "outputs": [
        {
          "output_type": "stream",
          "name": "stdout",
          "text": [
            "b'1'\n",
            "b'2'\n",
            "b'3'\n",
            "b'4'\n",
            "b'5'\n",
            "b'6'\n",
            "b'7'\n",
            "b'8'\n",
            "b'9'\n",
            "b'10'\n",
            "b'11'\n",
            "b'12'\n"
          ]
        }
      ]
    },
    {
      "cell_type": "code",
      "source": [
        "A = np.array([[1,2,3,4,5,6],[7,8,9,10,11,12]])\n",
        "for x in np.nditer(A[: ,: :2]):\n",
        "  print(x)"
      ],
      "metadata": {
        "colab": {
          "base_uri": "https://localhost:8080/"
        },
        "id": "a0CnpIcPI4v7",
        "outputId": "b79530de-9acb-42e2-8a3f-e91905196bbb"
      },
      "execution_count": 43,
      "outputs": [
        {
          "output_type": "stream",
          "name": "stdout",
          "text": [
            "1\n",
            "3\n",
            "5\n",
            "7\n",
            "9\n",
            "11\n"
          ]
        }
      ]
    },
    {
      "cell_type": "code",
      "source": [
        "# ndenumerate()\n",
        "A = np.array([[1,2,3,4,5,6],[7,8,9,10,11,12]])\n",
        "for x in np.ndenumerate(A):\n",
        "  print(x)"
      ],
      "metadata": {
        "colab": {
          "base_uri": "https://localhost:8080/"
        },
        "id": "vQ5Kg72mJWwf",
        "outputId": "7d9209e3-ebb0-4c1b-9b29-2305b68d8e13"
      },
      "execution_count": 44,
      "outputs": [
        {
          "output_type": "stream",
          "name": "stdout",
          "text": [
            "((0, 0), 1)\n",
            "((0, 1), 2)\n",
            "((0, 2), 3)\n",
            "((0, 3), 4)\n",
            "((0, 4), 5)\n",
            "((0, 5), 6)\n",
            "((1, 0), 7)\n",
            "((1, 1), 8)\n",
            "((1, 2), 9)\n",
            "((1, 3), 10)\n",
            "((1, 4), 11)\n",
            "((1, 5), 12)\n"
          ]
        }
      ]
    },
    {
      "cell_type": "code",
      "source": [
        "A = np.array([[1,2,3,4,5,6],[7,8,9,10,11,12]])\n",
        "for idx,x in np.ndenumerate(A):\n",
        "  print(idx,x)"
      ],
      "metadata": {
        "colab": {
          "base_uri": "https://localhost:8080/"
        },
        "id": "9LZAeG76JkMi",
        "outputId": "e4fe5dc2-7c63-4f44-c5c2-dacbd077ea8f"
      },
      "execution_count": 46,
      "outputs": [
        {
          "output_type": "stream",
          "name": "stdout",
          "text": [
            "(0, 0) 1\n",
            "(0, 1) 2\n",
            "(0, 2) 3\n",
            "(0, 3) 4\n",
            "(0, 4) 5\n",
            "(0, 5) 6\n",
            "(1, 0) 7\n",
            "(1, 1) 8\n",
            "(1, 2) 9\n",
            "(1, 3) 10\n",
            "(1, 4) 11\n",
            "(1, 5) 12\n"
          ]
        }
      ]
    }
  ]
}