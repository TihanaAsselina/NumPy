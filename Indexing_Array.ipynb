{
  "nbformat": 4,
  "nbformat_minor": 0,
  "metadata": {
    "colab": {
      "provenance": []
    },
    "kernelspec": {
      "name": "python3",
      "display_name": "Python 3"
    },
    "language_info": {
      "name": "python"
    }
  },
  "cells": [
    {
      "cell_type": "markdown",
      "source": [
        "# **Indexing Array:**"
      ],
      "metadata": {
        "id": "9qogeSA6khaJ"
      }
    },
    {
      "cell_type": "code",
      "source": [
        "import numpy as np"
      ],
      "metadata": {
        "id": "v1e-OvCsXpPI"
      },
      "execution_count": 1,
      "outputs": []
    },
    {
      "cell_type": "code",
      "source": [
        "import numpy as np\n",
        "x = np.array([1,2,3])\n",
        "print(x[0])"
      ],
      "metadata": {
        "colab": {
          "base_uri": "https://localhost:8080/"
        },
        "id": "E6ODzI8OauZs",
        "outputId": "f47b008f-5e64-4351-9eb7-fcb5e5bf627a"
      },
      "execution_count": 21,
      "outputs": [
        {
          "output_type": "stream",
          "name": "stdout",
          "text": [
            "1\n"
          ]
        }
      ]
    },
    {
      "cell_type": "code",
      "source": [
        "#  1-Dimensions array:\n",
        "y =np.array([\"Hello \",2,\"World\"])\n",
        "print(y[0] + y[2])"
      ],
      "metadata": {
        "colab": {
          "base_uri": "https://localhost:8080/"
        },
        "id": "mfbTGEnLbkW2",
        "outputId": "104d28cb-7a9d-41a6-c5c0-a5b9bdae5970"
      },
      "execution_count": 24,
      "outputs": [
        {
          "output_type": "stream",
          "name": "stdout",
          "text": [
            "Hello World\n"
          ]
        }
      ]
    },
    {
      "cell_type": "code",
      "source": [
        "y = np.array([\"Hello \",2,\"World\"])\n",
        "z = y[0] + y[2]\n",
        "print(z)\n"
      ],
      "metadata": {
        "colab": {
          "base_uri": "https://localhost:8080/"
        },
        "id": "n5ievVvGZOAp",
        "outputId": "d11584a7-098f-4927-8836-674c68c9af28"
      },
      "execution_count": 25,
      "outputs": [
        {
          "output_type": "stream",
          "name": "stdout",
          "text": [
            "Hello World\n"
          ]
        }
      ]
    },
    {
      "cell_type": "code",
      "source": [
        "# 2-Dimensions array:\n",
        "C = np.array([[1,2,3]])\n",
        "print(C[0])\n",
        "\n"
      ],
      "metadata": {
        "colab": {
          "base_uri": "https://localhost:8080/"
        },
        "id": "3dmEg-JeZnIi",
        "outputId": "fefd8873-8f36-41b4-9df4-63f1b24a122c"
      },
      "execution_count": 27,
      "outputs": [
        {
          "output_type": "stream",
          "name": "stdout",
          "text": [
            "[1 2 3]\n"
          ]
        }
      ]
    },
    {
      "cell_type": "code",
      "source": [
        "# 2-Dimensions array:\n",
        "D = np.array([[1,2,3],[4,5,6]])\n",
        "print(D[0])\n",
        "print(D[1])\n",
        "print(D[0,0])\n",
        "print(D[1,2])"
      ],
      "metadata": {
        "colab": {
          "base_uri": "https://localhost:8080/"
        },
        "id": "TYkL2minZ_WM",
        "outputId": "bdb34278-0ba0-4ba4-f2d6-cda33d2512c1"
      },
      "execution_count": 29,
      "outputs": [
        {
          "output_type": "stream",
          "name": "stdout",
          "text": [
            "[1 2 3]\n",
            "[4 5 6]\n",
            "1\n",
            "6\n"
          ]
        }
      ]
    },
    {
      "cell_type": "code",
      "source": [
        "# 3-Dimensions array:[0,0,0]\n",
        "E = np.array([[[1,2,3],[4,5,6],[7,8,9]]])\n",
        "print(E[0])"
      ],
      "metadata": {
        "colab": {
          "base_uri": "https://localhost:8080/"
        },
        "id": "be0ekgxiaO7K",
        "outputId": "09053f5e-8204-40ac-d26d-2c192e5266ee"
      },
      "execution_count": 32,
      "outputs": [
        {
          "output_type": "stream",
          "name": "stdout",
          "text": [
            "[[1 2 3]\n",
            " [4 5 6]\n",
            " [7 8 9]]\n"
          ]
        }
      ]
    },
    {
      "cell_type": "code",
      "source": [
        "E = np.array([[[1,2,3],[4,5,6],[7,8,9]]])\n",
        "print(E[0,0])\n",
        "print(E[0,0,1])"
      ],
      "metadata": {
        "colab": {
          "base_uri": "https://localhost:8080/"
        },
        "id": "CqbNFyyjibxR",
        "outputId": "65d5e934-3fc8-4697-c320-2bcd5cc03d36"
      },
      "execution_count": 34,
      "outputs": [
        {
          "output_type": "stream",
          "name": "stdout",
          "text": [
            "[1 2 3]\n",
            "2\n"
          ]
        }
      ]
    },
    {
      "cell_type": "code",
      "source": [
        "E = np.array([[[1,2,3],[4,5,6],[7,8,9]]])\n",
        "print(E[0,1,1])\n",
        "print(E[0,2,1])\n",
        "print(E[0,-1])\n",
        "print(E[0,-1,-1])"
      ],
      "metadata": {
        "colab": {
          "base_uri": "https://localhost:8080/"
        },
        "id": "RJgIt2wajdeV",
        "outputId": "f49e5330-8627-4dfb-9d08-812271e62097"
      },
      "execution_count": 35,
      "outputs": [
        {
          "output_type": "stream",
          "name": "stdout",
          "text": [
            "5\n",
            "8\n",
            "[7 8 9]\n",
            "9\n"
          ]
        }
      ]
    }
  ]
}