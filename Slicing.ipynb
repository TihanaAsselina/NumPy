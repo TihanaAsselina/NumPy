{
  "nbformat": 4,
  "nbformat_minor": 0,
  "metadata": {
    "colab": {
      "provenance": []
    },
    "kernelspec": {
      "name": "python3",
      "display_name": "Python 3"
    },
    "language_info": {
      "name": "python"
    }
  },
  "cells": [
    {
      "cell_type": "markdown",
      "source": [
        "# **NumPy Array Slicing:**\n",
        "\n",
        "\n",
        "Syntax : [Start:End], [Start:End:Step]"
      ],
      "metadata": {
        "id": "9qogeSA6khaJ"
      }
    },
    {
      "cell_type": "code",
      "source": [
        "import numpy as np"
      ],
      "metadata": {
        "id": "v1e-OvCsXpPI"
      },
      "execution_count": 1,
      "outputs": []
    },
    {
      "cell_type": "code",
      "source": [
        "# 1-Dimensions array:\n",
        "x = np.array([1,2,3,4,5,6,7,8,9])\n",
        "print(x[1:3])"
      ],
      "metadata": {
        "colab": {
          "base_uri": "https://localhost:8080/"
        },
        "id": "E6ODzI8OauZs",
        "outputId": "cc79014d-707c-4966-c461-ed9f5e959a90"
      },
      "execution_count": 38,
      "outputs": [
        {
          "output_type": "stream",
          "name": "stdout",
          "text": [
            "[2 3]\n"
          ]
        }
      ]
    },
    {
      "cell_type": "code",
      "source": [
        "x = np.array([1,2,3,4,5,6,7,8,9])\n",
        "print(x[1:6:3])"
      ],
      "metadata": {
        "colab": {
          "base_uri": "https://localhost:8080/"
        },
        "id": "C_Vq0ULxnT-V",
        "outputId": "2c79ea9f-8ce9-4cf0-e52a-635f0181ccad"
      },
      "execution_count": 40,
      "outputs": [
        {
          "output_type": "stream",
          "name": "stdout",
          "text": [
            "[2 5]\n"
          ]
        }
      ]
    },
    {
      "cell_type": "code",
      "source": [
        "x = np.array([1,2,3,4,5,6,7,8,9])\n",
        "print(x[:])\n",
        "print(x[:-8])\n",
        "print(x[-3:-1])"
      ],
      "metadata": {
        "colab": {
          "base_uri": "https://localhost:8080/"
        },
        "id": "qrtoEdUmni1O",
        "outputId": "0366b35b-e55e-41c3-fb76-ffff774719ab"
      },
      "execution_count": 43,
      "outputs": [
        {
          "output_type": "stream",
          "name": "stdout",
          "text": [
            "[1 2 3 4 5 6 7 8 9]\n",
            "[1]\n",
            "[7 8]\n"
          ]
        }
      ]
    },
    {
      "cell_type": "code",
      "source": [
        "# 2-Dimensions array:\n",
        "D = np.array([[1,2,3],[4,5,6]])\n",
        "print(D[0,:6])"
      ],
      "metadata": {
        "colab": {
          "base_uri": "https://localhost:8080/"
        },
        "id": "TYkL2minZ_WM",
        "outputId": "683e2c23-1aa1-4bba-dbe8-2b4922e49cbb"
      },
      "execution_count": 59,
      "outputs": [
        {
          "output_type": "stream",
          "name": "stdout",
          "text": [
            "[1 2 3]\n"
          ]
        }
      ]
    },
    {
      "cell_type": "code",
      "source": [
        "D = np.array([[1,2,3,4,5,6],[7,8,9,10,11,12]])\n",
        "print(D[0, 1:3])\n",
        "print(D[0,:2])\n",
        "print(D[1, 2:3])"
      ],
      "metadata": {
        "colab": {
          "base_uri": "https://localhost:8080/"
        },
        "id": "M5QOd1zQoycU",
        "outputId": "ca98caea-268c-40af-d996-d12b139c4b91"
      },
      "execution_count": 60,
      "outputs": [
        {
          "output_type": "stream",
          "name": "stdout",
          "text": [
            "[2 3]\n",
            "[1 2]\n",
            "[9]\n"
          ]
        }
      ]
    },
    {
      "cell_type": "code",
      "source": [
        "D = np.array([[1,2,3,4,5,6],[7,8,9,10,11,12]])\n",
        "print(D[0:2,1:4])"
      ],
      "metadata": {
        "colab": {
          "base_uri": "https://localhost:8080/"
        },
        "id": "0HlGxiN-q4nC",
        "outputId": "4128a50a-12a6-4882-c90d-4fd056e239ae"
      },
      "execution_count": 64,
      "outputs": [
        {
          "output_type": "stream",
          "name": "stdout",
          "text": [
            "[[ 2  3  4]\n",
            " [ 8  9 10]]\n"
          ]
        }
      ]
    }
  ]
}